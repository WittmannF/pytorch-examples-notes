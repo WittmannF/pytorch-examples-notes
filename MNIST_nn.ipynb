{
  "nbformat": 4,
  "nbformat_minor": 0,
  "metadata": {
    "colab": {
      "name": "MNIST_nn.ipynb",
      "provenance": [],
      "authorship_tag": "ABX9TyMMzV/qFsYT1rO4sbCNeUep",
      "include_colab_link": true
    },
    "kernelspec": {
      "name": "python3",
      "display_name": "Python 3"
    }
  },
  "cells": [
    {
      "cell_type": "markdown",
      "metadata": {
        "id": "view-in-github",
        "colab_type": "text"
      },
      "source": [
        "<a href=\"https://colab.research.google.com/github/WittmannF/pytorch-examples-notes/blob/master/MNIST_nn.ipynb\" target=\"_parent\"><img src=\"https://colab.research.google.com/assets/colab-badge.svg\" alt=\"Open In Colab\"/></a>"
      ]
    },
    {
      "cell_type": "code",
      "metadata": {
        "id": "vtjaCioIAydP",
        "colab_type": "code",
        "colab": {}
      },
      "source": [
        "# Master Class: https://www.youtube.com/watch?v=OMDn66kM9Qc\n",
        "import torch\n",
        "from torch import nn\n",
        "from torch import optim\n",
        "from torchvision import datasets, transforms\n",
        "from torch.utils.data import random_split, DataLoader"
      ],
      "execution_count": 17,
      "outputs": []
    },
    {
      "cell_type": "code",
      "metadata": {
        "id": "Ef_E3QW6A3nh",
        "colab_type": "code",
        "colab": {}
      },
      "source": [
        "model = nn.Sequential(\n",
        "    nn.Linear(28*28, 64),\n",
        "    nn.ReLU(),\n",
        "    nn.Linear(64, 64),\n",
        "    nn.ReLU(),\n",
        "    nn.Linear(64, 10)\n",
        ")"
      ],
      "execution_count": 4,
      "outputs": []
    },
    {
      "cell_type": "code",
      "metadata": {
        "id": "ORp5xYyrBZiB",
        "colab_type": "code",
        "colab": {}
      },
      "source": [
        "# Define optimizer\n",
        "optimizer = optim.SGD(model.parameters(), lr=1e-2)"
      ],
      "execution_count": 9,
      "outputs": []
    },
    {
      "cell_type": "code",
      "metadata": {
        "id": "MkYHL-VAB2N9",
        "colab_type": "code",
        "colab": {}
      },
      "source": [
        "# Define loss\n",
        "loss = nn.CrossEntropyLoss()"
      ],
      "execution_count": 10,
      "outputs": []
    },
    {
      "cell_type": "code",
      "metadata": {
        "id": "Dil9a7xLEtdi",
        "colab_type": "code",
        "colab": {}
      },
      "source": [
        "# Train, Val Split\n",
        "train_data = datasets.MNIST('data', train=True, download=True, \n",
        "                            transform=transforms.ToTensor())\n",
        "train, val = random_split(train_data, [55000, 5000])\n",
        "train_loader = DataLoader(train, batch_size=32)\n",
        "val_loader = DataLoader(val, batch_size=32)"
      ],
      "execution_count": 18,
      "outputs": []
    },
    {
      "cell_type": "code",
      "metadata": {
        "id": "cr4P-EBsCa1I",
        "colab_type": "code",
        "colab": {}
      },
      "source": [
        "# Training loop\n",
        "nb_epochs = 5\n",
        "for epochs in range(nb_epochs):\n",
        "    for batch in train_loader:\n",
        "        x, y = batch\n",
        "\n",
        "        # x: b x 1 x 28 x 28\n",
        "        bs = x.size(0)\n",
        "        x = x.view(bs, -1)\n",
        "\n",
        "        # 1 Forward\n",
        "        l = model(x)\n",
        "\n",
        "        # 2 Compute obj function\n",
        "        J = loss(l, y)\n",
        "\n",
        "        # 3 Cleaning gradients\n",
        "        model.zero_grad()\n",
        "\n",
        "        # 4 Compute partial derivatives of J\n",
        "        J.backward()\n",
        "\n",
        "        # 5 Step in the opposite direction of the gradient\n",
        "        optimizer.step()\n",
        "\n",
        "\n"
      ],
      "execution_count": null,
      "outputs": []
    }
  ]
}